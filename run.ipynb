{
 "cells": [
  {
   "cell_type": "code",
   "execution_count": 3,
   "id": "47cc9726-bedf-4351-b23e-8496decc59b3",
   "metadata": {
    "tags": []
   },
   "outputs": [
    {
     "name": "stdout",
     "output_type": "stream",
     "text": [
      "Loading weights from local directory\n",
      "Total parameters: 97.47M\n"
     ]
    },
    {
     "name": "stderr",
     "output_type": "stream",
     "text": [
      "100%|██████████| 2326/2326 [02:07<00:00, 18.21it/s]\n",
      "100%|██████████| 2326/2326 [00:04<00:00, 516.37it/s]\n"
     ]
    }
   ],
   "source": [
    "import argparse\n",
    "import cv2\n",
    "import numpy as np\n",
    "import os\n",
    "import torch\n",
    "import torch.nn.functional as F\n",
    "from torchvision.transforms import Compose\n",
    "from tqdm import tqdm\n",
    "\n",
    "import decord\n",
    "\n",
    "from depth_anything.dpt import DepthAnything\n",
    "from depth_anything.util.transform import Resize, NormalizeImage, PrepareForNet\n",
    "\n",
    "transform = Compose([\n",
    "        Resize(\n",
    "            width=518,\n",
    "            height=518,\n",
    "            resize_target=False,\n",
    "            keep_aspect_ratio=True,\n",
    "            ensure_multiple_of=14,\n",
    "            resize_method='lower_bound',\n",
    "            image_interpolation_method=cv2.INTER_CUBIC,\n",
    "        ),\n",
    "        NormalizeImage(mean=[0.485, 0.456, 0.406], std=[0.229, 0.224, 0.225]),\n",
    "        PrepareForNet(),\n",
    "    ])\n",
    "\n",
    "def depth_analysis(raw_image):\n",
    "    image = cv2.cvtColor(raw_image, cv2.COLOR_BGR2RGB) / 255.0\n",
    "\n",
    "    h, w = image.shape[:2]\n",
    "\n",
    "    image = transform({'image': image})['image']\n",
    "    image = torch.from_numpy(image).unsqueeze(0).to(DEVICE)\n",
    "\n",
    "    with torch.no_grad():\n",
    "        depth = depth_anything(image)\n",
    "\n",
    "    depth = F.interpolate(depth[None], (h, w), mode='bilinear', align_corners=False)[0, 0]\n",
    "    depth = (depth - depth.min()) / (depth.max() - depth.min()) * 255.0\n",
    "\n",
    "    depth = depth.cpu().numpy().astype(np.uint8)\n",
    "    depth_color = cv2.applyColorMap(depth, cv2.COLORMAP_INFERNO) # 输出是这个图片\n",
    "    \n",
    "    return depth_color\n",
    "\n",
    "DEVICE = 'cuda' if torch.cuda.is_available() else 'cpu'\n",
    "   \n",
    "encoder = 'vitb' # can also be 'vitb' or 'vitl'\n",
    "depth_anything = DepthAnything.from_pretrained('LiheYoung/depth_anything_{:}14'.format(encoder))\n",
    "\n",
    "total_params = sum(param.numel() for param in depth_anything.parameters())\n",
    "print('Total parameters: {:.2f}M'.format(total_params / 1e6))\n",
    "\n",
    "\n",
    "depth_anything.eval()\n",
    "\n",
    "# read video\n",
    "video_path = './test.mp4' # <- input video\n",
    "video = decord.VideoReader(video_path, height=518, width=518)\n",
    "\n",
    "fps = video.get_avg_fps() # 每秒显示多少帧\n",
    "nframes = len(video)  # 总的帧\n",
    "\n",
    "num = nframes # 根据需要选择抽多少,此处假设全抽\n",
    "frameDuration = nframes//num\n",
    "indexes = range(0,nframes,int(frameDuration))\n",
    "indexes = [i+int(frameDuration) for i in indexes if (i+int(frameDuration))<nframes] # 抽取视频帧\n",
    "\n",
    "video_frames_raw = video.get_batch(indexes).asnumpy()\n",
    "depth_colors = [] # depth pics\n",
    "\n",
    "for i in tqdm(video_frames_raw):\n",
    "    img = cv2.cvtColor(np.array(i),cv2.COLOR_BGR2RGB) # convert to cv2 style\n",
    "\n",
    "    depth_color = depth_analysis(img)\n",
    "    depth_colors.append(depth_color)\n",
    "\n",
    "# save video\n",
    "video_writer = cv2.VideoWriter('test.mp4', cv2.VideoWriter_fourcc('m', 'p', '4', 'v'), fps, (518, 518), True)\n",
    "for pic in tqdm(depth_colors):\n",
    "    video_writer.write(pic) # -> output video\n",
    "    \n",
    "video_writer.release()"
   ]
  },
  {
   "cell_type": "code",
   "execution_count": null,
   "id": "bdab4643-4e2a-4940-a254-e7a051a814d0",
   "metadata": {},
   "outputs": [],
   "source": []
  }
 ],
 "metadata": {
  "kernelspec": {
   "display_name": "py38",
   "language": "python",
   "name": "py38"
  },
  "language_info": {
   "codemirror_mode": {
    "name": "ipython",
    "version": 3
   },
   "file_extension": ".py",
   "mimetype": "text/x-python",
   "name": "python",
   "nbconvert_exporter": "python",
   "pygments_lexer": "ipython3",
   "version": "3.8.15"
  }
 },
 "nbformat": 4,
 "nbformat_minor": 5
}
